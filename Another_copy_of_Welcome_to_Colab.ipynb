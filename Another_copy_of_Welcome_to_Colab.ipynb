{
  "cells": [
    {
      "cell_type": "markdown",
      "metadata": {
        "id": "view-in-github",
        "colab_type": "text"
      },
      "source": [
        "<a href=\"https://colab.research.google.com/github/rajaram291104/Python_practice/blob/main/Another_copy_of_Welcome_to_Colab.ipynb\" target=\"_parent\"><img src=\"https://colab.research.google.com/assets/colab-badge.svg\" alt=\"Open In Colab\"/></a>"
      ]
    },
    {
      "cell_type": "code",
      "source": [
        "nameprint(324+235)"
      ],
      "metadata": {
        "id": "BWPXNVh-8wVW",
        "outputId": "9de7fca8-ddca-424d-dfbb-f6c76e7fbf68",
        "colab": {
          "base_uri": "https://localhost:8080/"
        }
      },
      "execution_count": null,
      "outputs": [
        {
          "output_type": "stream",
          "name": "stdout",
          "text": [
            "559\n"
          ]
        }
      ]
    },
    {
      "cell_type": "code",
      "source": [],
      "metadata": {
        "id": "Jk6yIzkM-3Yo"
      },
      "execution_count": null,
      "outputs": []
    },
    {
      "cell_type": "code",
      "source": [
        "print(27477*4738)"
      ],
      "metadata": {
        "id": "3kRRQ-VF9Qx5",
        "outputId": "3a86ba0d-b170-4885-f85b-da2be73a6d17",
        "colab": {
          "base_uri": "https://localhost:8080/"
        }
      },
      "execution_count": null,
      "outputs": [
        {
          "output_type": "stream",
          "name": "stdout",
          "text": [
            "130186026\n"
          ]
        }
      ]
    },
    {
      "cell_type": "code",
      "source": [
        "print(234+434)\n",
        "print(35*32523)\n",
        "print(214124%5235)"
      ],
      "metadata": {
        "id": "jz0z4rQW9ZBP",
        "outputId": "a8eca969-8a80-47a3-d2fa-2ca53c448646",
        "colab": {
          "base_uri": "https://localhost:8080/"
        }
      },
      "execution_count": null,
      "outputs": [
        {
          "output_type": "stream",
          "name": "stdout",
          "text": [
            "668\n",
            "1138305\n",
            "4724\n"
          ]
        }
      ]
    },
    {
      "cell_type": "code",
      "source": [
        "name = \"raja\"\n",
        "age = 20\n",
        "price = 23.23\n",
        "\n",
        "age2 = age\n",
        "\n",
        "print(age2)"
      ],
      "metadata": {
        "colab": {
          "base_uri": "https://localhost:8080/"
        },
        "id": "jevGYu1yWpXu",
        "outputId": "1c1a0cdc-d950-4374-aec1-97f50c662bb0"
      },
      "execution_count": null,
      "outputs": [
        {
          "output_type": "stream",
          "name": "stdout",
          "text": [
            "20\n"
          ]
        }
      ]
    },
    {
      "cell_type": "code",
      "source": [
        "name = \"raja\"\n",
        "age = 20\n",
        "price = 35.34\n",
        "\n",
        "age2 = age\n",
        "print(age2)\n"
      ],
      "metadata": {
        "colab": {
          "base_uri": "https://localhost:8080/"
        },
        "id": "Th3cx-N09mM3",
        "outputId": "215e1453-000b-4658-e741-2e04f296f98e"
      },
      "execution_count": null,
      "outputs": [
        {
          "output_type": "stream",
          "name": "stdout",
          "text": [
            "20\n"
          ]
        }
      ]
    },
    {
      "cell_type": "code",
      "source": [
        "a = 2\n",
        "b = 3\n",
        "c = 23\n",
        "\n",
        "sum = a + b + c\n",
        "print(sum)"
      ],
      "metadata": {
        "colab": {
          "base_uri": "https://localhost:8080/"
        },
        "id": "KYuZe6jWA2Ue",
        "outputId": "de92eb49-4976-4605-887b-16e2b6a13673"
      },
      "execution_count": null,
      "outputs": [
        {
          "output_type": "stream",
          "name": "stdout",
          "text": [
            "28\n"
          ]
        }
      ]
    },
    {
      "cell_type": "code",
      "source": [
        "a = 344\n",
        "b = 325\n",
        "c = 234\n",
        "\n",
        "sum = a * b + c\n",
        "print(sum)"
      ],
      "metadata": {
        "colab": {
          "base_uri": "https://localhost:8080/"
        },
        "id": "sQGPIKIHBmcq",
        "outputId": "2a2b16df-9ce8-4b31-eea8-6f0a31d2e486"
      },
      "execution_count": null,
      "outputs": [
        {
          "output_type": "stream",
          "name": "stdout",
          "text": [
            "112034\n"
          ]
        }
      ]
    },
    {
      "cell_type": "code",
      "source": [
        "#relational operators\n",
        "\n",
        "a = 50\n",
        "b = 20\n",
        "print(a==b)\n",
        "print(a!=b)\n",
        "print(a>b)\n",
        "print(a<b)\n"
      ],
      "metadata": {
        "colab": {
          "base_uri": "https://localhost:8080/"
        },
        "id": "q4BuAEqCB-hi",
        "outputId": "491133d0-07b7-48e1-e450-bc8318321919"
      },
      "execution_count": null,
      "outputs": [
        {
          "output_type": "stream",
          "name": "stdout",
          "text": [
            "False\n",
            "True\n",
            "True\n",
            "False\n"
          ]
        }
      ]
    },
    {
      "cell_type": "code",
      "source": [
        "#arithmetic operators\n",
        "a = 50\n",
        "b = 20\n",
        "print(a+b)\n",
        "print(a-b)\n",
        "print(a*b)\n",
        "print(a/b)\n",
        "print(a%b)\n",
        "print(a**b)\n"
      ],
      "metadata": {
        "colab": {
          "base_uri": "https://localhost:8080/"
        },
        "id": "Cy46QYqnMZC0",
        "outputId": "9389cc13-d97c-4eed-ddd8-542ddc881dfc"
      },
      "execution_count": null,
      "outputs": [
        {
          "output_type": "stream",
          "name": "stdout",
          "text": [
            "70\n",
            "30\n",
            "1000\n",
            "2.5\n",
            "10\n",
            "9536743164062500000000000000000000\n"
          ]
        }
      ]
    },
    {
      "cell_type": "code",
      "source": [
        "name = input(\"Enter your name: \")\n",
        "age = int(input(\"Enter your age: \"))\n",
        "marks = float(input(\"Enter your marks: \"))\n",
        "\n",
        "print(\"Welcome\", name)\n",
        "print(\"Your age is\", age)\n",
        "print(\"Your marks are\", marks)"
      ],
      "metadata": {
        "colab": {
          "base_uri": "https://localhost:8080/"
        },
        "id": "9tmLW0OAQev6",
        "outputId": "c802e81a-d415-4ed8-983d-7b2cd0804079"
      },
      "execution_count": null,
      "outputs": [
        {
          "output_type": "stream",
          "name": "stdout",
          "text": [
            "Enter your name: raja\n",
            "Enter your age: 20\n",
            "Enter your marks: 50.00\n",
            "Welcome raja\n",
            "Your age is 20\n",
            "Your marks are 50.0\n"
          ]
        }
      ]
    },
    {
      "cell_type": "code",
      "source": [
        "str = \"apna college\"\n",
        "\n",
        "print(str[0])\n",
        "print(str[1])\n",
        "print(str[2])\n",
        "print(str[3])\n",
        "print(str[4])"
      ],
      "metadata": {
        "colab": {
          "base_uri": "https://localhost:8080/"
        },
        "id": "Cr1fUxsmW1M-",
        "outputId": "5915136e-b2cf-4772-dc2e-b9b1e1d842b3"
      },
      "execution_count": null,
      "outputs": [
        {
          "output_type": "stream",
          "name": "stdout",
          "text": [
            "a\n",
            "p\n",
            "n\n",
            "a\n",
            " \n"
          ]
        }
      ]
    },
    {
      "cell_type": "code",
      "source": [
        "#negative index"
      ],
      "metadata": {
        "id": "LlT9higf4wHS"
      },
      "execution_count": null,
      "outputs": []
    },
    {
      "cell_type": "code",
      "source": [
        "str = \"aaple\"\n",
        "print(str[-5:-1])\n",
        "print(str[-5:-2])"
      ],
      "metadata": {
        "colab": {
          "base_uri": "https://localhost:8080/"
        },
        "id": "-9B7WK_pSZ5X",
        "outputId": "6ad925b2-7c6e-4120-977f-456513a32dd2"
      },
      "execution_count": null,
      "outputs": [
        {
          "output_type": "stream",
          "name": "stdout",
          "text": [
            "aapl\n",
            "aap\n"
          ]
        }
      ]
    },
    {
      "cell_type": "code",
      "source": [
        "# endwith use\n",
        "str = \"i am stadying python from apna college\"\n",
        "print(str.endswith(\"ege\"))"
      ],
      "metadata": {
        "colab": {
          "base_uri": "https://localhost:8080/"
        },
        "id": "LYY8511R6gsL",
        "outputId": "36f83a55-2747-4832-8f5b-8ec335642059"
      },
      "execution_count": null,
      "outputs": [
        {
          "output_type": "stream",
          "name": "stdout",
          "text": [
            "True\n"
          ]
        }
      ]
    },
    {
      "cell_type": "code",
      "source": [
        "name = input(\"enter tour name\")\n",
        "print(\"length of your name is\",len(name))"
      ],
      "metadata": {
        "colab": {
          "base_uri": "https://localhost:8080/"
        },
        "id": "iYJhmZ5k7GTM",
        "outputId": "1e34ab84-d034-4aec-f4f3-69ac39722f63"
      },
      "execution_count": null,
      "outputs": [
        {
          "output_type": "stream",
          "name": "stdout",
          "text": [
            "enter tour nameraja\n",
            "length of your name is 4\n"
          ]
        }
      ]
    },
    {
      "cell_type": "code",
      "source": [
        "x = 10\n",
        "\n",
        "if x > 5:\n",
        "    print(\"x is greater than 5\")\n",
        "else:\n",
        "    print(\"x is less than or equal to 5\")"
      ],
      "metadata": {
        "colab": {
          "base_uri": "https://localhost:8080/"
        },
        "id": "dgQ0ShwxDzaV",
        "outputId": "0eb02d73-bb5b-4574-d7a4-27185dcc59c6"
      },
      "execution_count": null,
      "outputs": [
        {
          "output_type": "stream",
          "name": "stdout",
          "text": [
            "x is greater than 5\n"
          ]
        }
      ]
    },
    {
      "cell_type": "code",
      "source": [
        "x = 100\n",
        "\n",
        "if x > 100:\n",
        "    print(\"x is greater than 100\")\n",
        "elif x > 100:\n",
        "    print(\"x is equal than 50\")\n",
        "else:\n",
        "  print(\"x is less than 50\")"
      ],
      "metadata": {
        "colab": {
          "base_uri": "https://localhost:8080/"
        },
        "id": "D8rl05-iY8pZ",
        "outputId": "79cfb96c-3c46-48ce-814d-858e9e564942"
      },
      "execution_count": null,
      "outputs": [
        {
          "output_type": "stream",
          "name": "stdout",
          "text": [
            "x is less than 50\n"
          ]
        }
      ]
    },
    {
      "cell_type": "code",
      "source": [
        "x = 10\n",
        "if x >5:\n",
        "  print(\"x is greater than 5\")\n",
        "if x < 5:\n",
        "  print(\"x is less than 5\")\n",
        "if x == 5:\n",
        "  print(\"x is equal) to 5\")"
      ],
      "metadata": {
        "colab": {
          "base_uri": "https://localhost:8080/"
        },
        "id": "wHI-7hKxge-2",
        "outputId": "f4ca06db-a4e9-4df3-f5fe-9aed6f050015"
      },
      "execution_count": null,
      "outputs": [
        {
          "output_type": "stream",
          "name": "stdout",
          "text": [
            "x is greater than 5\n"
          ]
        }
      ]
    },
    {
      "cell_type": "code",
      "source": [
        "x = 3\n",
        "if x > 5:\n",
        "  print(\"x is greater than 5\")\n",
        "elif x < 5:\n",
        "  print(\"x is less than 5\")\n",
        "else:\n",
        "  print(\"x is equal to 5\")"
      ],
      "metadata": {
        "colab": {
          "base_uri": "https://localhost:8080/"
        },
        "id": "zZnmSaFeh0SM",
        "outputId": "975141b5-221c-447e-dffc-1af139166f9c"
      },
      "execution_count": null,
      "outputs": [
        {
          "output_type": "stream",
          "name": "stdout",
          "text": [
            "x is less than 5\n"
          ]
        }
      ]
    },
    {
      "cell_type": "code",
      "source": [
        "def greet(name):\n",
        "  return\"hello\" + name\n",
        "\n"
      ],
      "metadata": {
        "id": "UKx2t4cSUf7h"
      },
      "execution_count": null,
      "outputs": []
    },
    {
      "cell_type": "code",
      "source": [
        "mark=[23,23,45,67,24,57,45,45,45,45,45,55]\n",
        "\n",
        "print(mark[-6:-5])"
      ],
      "metadata": {
        "colab": {
          "base_uri": "https://localhost:8080/"
        },
        "id": "eDTXWqUxiFSl",
        "outputId": "7314ce73-21a9-4110-e781-87b0785ad2f1"
      },
      "execution_count": null,
      "outputs": [
        {
          "output_type": "stream",
          "name": "stdout",
          "text": [
            "[45]\n"
          ]
        }
      ]
    },
    {
      "cell_type": "code",
      "source": [
        "list = [1,2,3,5,4]\n",
        "list.insert(2,3.4)\n",
        "print(list)\n"
      ],
      "metadata": {
        "colab": {
          "base_uri": "https://localhost:8080/"
        },
        "id": "8pFfIMfBm2iy",
        "outputId": "4d932ab6-bb2e-4e96-85ae-521d7e15cf4d"
      },
      "execution_count": null,
      "outputs": [
        {
          "output_type": "stream",
          "name": "stdout",
          "text": [
            "[1, 2, 3.4, 3, 5, 4]\n"
          ]
        }
      ]
    },
    {
      "cell_type": "code",
      "source": [
        "movies = []\n",
        "movies.append(input(\"enter 1stmovie name\"))\n",
        "movies.append(input(\"enter 2ndmovie name\"))\n",
        "movies.append(input(\"enter 3rdmovie name\"))\n",
        "movies.append(input(\"enter 4thmovie name\"))\n",
        "movies.append(input(\"enter 5thmovie name\"))\n",
        "print(movies)"
      ],
      "metadata": {
        "colab": {
          "base_uri": "https://localhost:8080/"
        },
        "id": "SxcPfOA0va9c",
        "outputId": "50f7eb01-8a43-4533-cede-43f8d186429b"
      },
      "execution_count": null,
      "outputs": [
        {
          "output_type": "stream",
          "name": "stdout",
          "text": [
            "enter 1stmovie namemass\n",
            "enter 2ndmovie namediljale\n",
            "enter 3rdmovie namekyola\n",
            "enter 4thmovie namejadu\n",
            "enter 5thmovie namehero\n",
            "['mass', 'diljale', 'kyola', 'jadu', 'hero']\n"
          ]
        }
      ]
    },
    {
      "cell_type": "code",
      "source": [
        "list1 = [1,2,1]\n",
        "list2 = [3,4,5]\n",
        "\n",
        "copy_list1 = list1.copy()\n",
        "if copy_list1 == list2:\n",
        "  print(\"palindrone\")\n",
        "else:\n",
        "  print(\"not palindrone\")\n",
        "\n",
        "  list1 = [1,2,1]\n",
        "list2 = [3,4,5]\n",
        "\n",
        "copy_list1 = list1.copy()\n",
        "if copy_list1 == list1:\n",
        "  print(\"palindrone\")\n",
        "else:\n",
        "  print(\"not palindrone\")"
      ],
      "metadata": {
        "colab": {
          "base_uri": "https://localhost:8080/"
        },
        "id": "Ic5_32r902eT",
        "outputId": "4d8b5ead-e828-4d6d-9b55-7bf5027cef0d"
      },
      "execution_count": null,
      "outputs": [
        {
          "output_type": "stream",
          "name": "stdout",
          "text": [
            "not palindrone\n",
            "palindrone\n"
          ]
        }
      ]
    },
    {
      "cell_type": "code",
      "source": [
        "dict = {\n",
        "    \"name\": \"raja\",\n",
        "    \"cgpa\": 6.7,\n",
        "    \"marks\": [45, 45, 56, 34, 45, 56]\n",
        "}\n",
        "\n",
        "print(dict[\"name\"], dict[\"cgpa\"], dict[\"marks\"])\n",
        "\n",
        "dict[\"key\"] = \"value\""
      ],
      "metadata": {
        "colab": {
          "base_uri": "https://localhost:8080/"
        },
        "id": "Piu1x-3tVqX0",
        "outputId": "5c2e0409-e597-4819-943e-bd351db66817"
      },
      "execution_count": null,
      "outputs": [
        {
          "output_type": "stream",
          "name": "stdout",
          "text": [
            "raja 6.7 [45, 45, 56, 34, 45, 56]\n"
          ]
        }
      ]
    },
    {
      "cell_type": "code",
      "source": [
        "info = {\n",
        "    \"key\": \"value\",\n",
        "    \"name\": \"silicon college\",\n",
        "    \"learning\" : \"coding\"\n",
        "\n",
        "}\n",
        "\n",
        "print(info[\"name\"], info[\"learning\"])"
      ],
      "metadata": {
        "colab": {
          "base_uri": "https://localhost:8080/"
        },
        "id": "stC71j0pYK2z",
        "outputId": "2d0b771e-d9f2-4a53-d1ee-3acd37bd89af"
      },
      "execution_count": null,
      "outputs": [
        {
          "output_type": "stream",
          "name": "stdout",
          "text": [
            "silicon college coding\n"
          ]
        }
      ]
    },
    {
      "cell_type": "code",
      "source": [
        "info = {\n",
        "    \"name\" : \"apna college\",\n",
        "      \"subjects\" : [\"python\", \"c\", \"java\"],\n",
        "      \"topics\" : (\"dict\",\"set\"),\n",
        "    \"age\" : 20,\n",
        "    \"is_adult\" : True,\n",
        "    12.99 : 56.00\n",
        "\n",
        "}\n",
        "print(type(info))"
      ],
      "metadata": {
        "colab": {
          "base_uri": "https://localhost:8080/"
        },
        "id": "Tr2G4WVFdRQC",
        "outputId": "1ddc0dff-cfb1-4c57-c8c3-fbead47ddaaf"
      },
      "execution_count": null,
      "outputs": [
        {
          "output_type": "stream",
          "name": "stdout",
          "text": [
            "<class 'dict'>\n"
          ]
        }
      ]
    },
    {
      "cell_type": "code",
      "source": [],
      "metadata": {
        "id": "atGpSZbOn1da"
      },
      "execution_count": null,
      "outputs": []
    },
    {
      "cell_type": "code",
      "source": [
        "from typing import Collection\n",
        "collection ={1,2,3,4,}\n",
        "\n",
        "print(Collection)\n",
        "print(type(collection))"
      ],
      "metadata": {
        "colab": {
          "base_uri": "https://localhost:8080/"
        },
        "id": "i70mF8ssjoA0",
        "outputId": "577b7c80-aa17-4ade-fa40-29a41b5858c9"
      },
      "execution_count": null,
      "outputs": [
        {
          "output_type": "stream",
          "name": "stdout",
          "text": [
            "typing.Collection\n",
            "<class 'set'>\n"
          ]
        }
      ]
    },
    {
      "cell_type": "code",
      "source": [
        "i = 1\n",
        "while i <= 10 :\n",
        "  print(i)\n",
        "  i+= 1"
      ],
      "metadata": {
        "id": "dM-qwT1Tnu4f",
        "colab": {
          "base_uri": "https://localhost:8080/"
        },
        "outputId": "9a3d28fe-cb63-446a-97e2-7d8b11c9a7cd"
      },
      "execution_count": null,
      "outputs": [
        {
          "output_type": "stream",
          "name": "stdout",
          "text": [
            "1\n",
            "2\n",
            "3\n",
            "4\n",
            "5\n",
            "6\n",
            "7\n",
            "8\n",
            "9\n",
            "10\n"
          ]
        }
      ]
    },
    {
      "cell_type": "code",
      "source": [
        "i = 10\n",
        "while i >= 1 :\n",
        "  print(i)\n",
        "  i -= 1"
      ],
      "metadata": {
        "colab": {
          "base_uri": "https://localhost:8080/"
        },
        "id": "xDdScPeCt84w",
        "outputId": "9c7b2fab-f8e7-4124-8be7-3cf97e9ebc49"
      },
      "execution_count": null,
      "outputs": [
        {
          "output_type": "stream",
          "name": "stdout",
          "text": [
            "10\n",
            "9\n",
            "8\n",
            "7\n",
            "6\n",
            "5\n",
            "4\n",
            "3\n",
            "2\n",
            "1\n"
          ]
        }
      ]
    },
    {
      "cell_type": "code",
      "source": [
        "i = 1\n",
        "while i <= 10 :\n",
        "  print(3*i)\n",
        "  i+= 1"
      ],
      "metadata": {
        "colab": {
          "base_uri": "https://localhost:8080/"
        },
        "id": "77js5aQGuWH-",
        "outputId": "52f89a2c-6b7f-4ead-c757-fbd2f62081ed"
      },
      "execution_count": null,
      "outputs": [
        {
          "output_type": "stream",
          "name": "stdout",
          "text": [
            "3\n",
            "6\n",
            "9\n",
            "12\n",
            "15\n",
            "18\n",
            "21\n",
            "24\n",
            "27\n",
            "30\n"
          ]
        }
      ]
    },
    {
      "cell_type": "code",
      "source": [
        "n = int(input(\"enter a number\"))\n",
        "i = 1\n",
        "while i <= 10 :\n",
        "  print(n*i)\n",
        "  i+= 1\n"
      ],
      "metadata": {
        "colab": {
          "base_uri": "https://localhost:8080/"
        },
        "id": "AxldDjoSwKnf",
        "outputId": "5bbcf561-2952-439a-e167-5ffaa85b0b2c"
      },
      "execution_count": null,
      "outputs": [
        {
          "output_type": "stream",
          "name": "stdout",
          "text": [
            "enter a number12\n",
            "12\n",
            "24\n",
            "36\n",
            "48\n",
            "60\n",
            "72\n",
            "84\n",
            "96\n",
            "108\n",
            "120\n"
          ]
        }
      ]
    },
    {
      "cell_type": "code",
      "source": [
        "i = 1\n",
        "while i <= 5:\n",
        "  print(i)\n",
        "  if (i == 3):\n",
        "    break\n",
        "  i += 1\n",
        "  print(\"end if loop\")"
      ],
      "metadata": {
        "colab": {
          "base_uri": "https://localhost:8080/"
        },
        "id": "Xc7G6hDE5gkT",
        "outputId": "d3c61dd5-53e8-4e25-9b19-d9e6dbcd5d12"
      },
      "execution_count": null,
      "outputs": [
        {
          "output_type": "stream",
          "name": "stdout",
          "text": [
            "1\n",
            "end if loop\n",
            "2\n",
            "end if loop\n",
            "3\n"
          ]
        }
      ]
    },
    {
      "cell_type": "code",
      "source": [
        "i = 1\n",
        "while i <= 5:\n",
        "  print(i)\n",
        "  if (i == 3):\n",
        "    break\n",
        "  i += 1\n",
        "\n",
        "\n"
      ],
      "metadata": {
        "colab": {
          "base_uri": "https://localhost:8080/"
        },
        "id": "a7309q9a5oql",
        "outputId": "6ab996aa-67e1-45c7-ebb9-570d7f06e596"
      },
      "execution_count": null,
      "outputs": [
        {
          "output_type": "stream",
          "name": "stdout",
          "text": [
            "1\n",
            "2\n",
            "3\n"
          ]
        }
      ]
    }
  ],
  "metadata": {
    "colab": {
      "provenance": [],
      "include_colab_link": true
    },
    "kernelspec": {
      "display_name": "Python 3",
      "name": "python3"
    },
    "language_info": {
      "name": "python"
    }
  },
  "nbformat": 4,
  "nbformat_minor": 0
}