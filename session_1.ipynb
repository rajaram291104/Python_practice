{
  "nbformat": 4,
  "nbformat_minor": 0,
  "metadata": {
    "colab": {
      "provenance": [],
      "authorship_tag": "ABX9TyN4Y3f1UpQoh7iTI+3VaYuV",
      "include_colab_link": true
    },
    "kernelspec": {
      "name": "python3",
      "display_name": "Python 3"
    },
    "language_info": {
      "name": "python"
    }
  },
  "cells": [
    {
      "cell_type": "markdown",
      "metadata": {
        "id": "view-in-github",
        "colab_type": "text"
      },
      "source": [
        "<a href=\"https://colab.research.google.com/github/rajaram291104/Python_practice/blob/main/session_1.ipynb\" target=\"_parent\"><img src=\"https://colab.research.google.com/assets/colab-badge.svg\" alt=\"Open In Colab\"/></a>"
      ]
    },
    {
      "cell_type": "markdown",
      "source": [
        "python progamming\n",
        "\n",
        "\n",
        "\n"
      ],
      "metadata": {
        "id": "7oUID-mZND0h"
      }
    },
    {
      "cell_type": "code",
      "source": [
        "a = 34\n",
        "b = 20\n",
        "c = a-b\n",
        "print(c)\n",
        "type(c)"
      ],
      "metadata": {
        "colab": {
          "base_uri": "https://localhost:8080/"
        },
        "id": "AB526cqNKP5B",
        "outputId": "a6d20227-1e1b-40fc-8ae1-6d098430d676"
      },
      "execution_count": null,
      "outputs": [
        {
          "output_type": "stream",
          "name": "stdout",
          "text": [
            "14\n"
          ]
        },
        {
          "output_type": "execute_result",
          "data": {
            "text/plain": [
              "int"
            ]
          },
          "metadata": {},
          "execution_count": 6
        }
      ]
    },
    {
      "cell_type": "code",
      "execution_count": null,
      "metadata": {
        "colab": {
          "base_uri": "https://localhost:8080/"
        },
        "id": "jCcIIWj5J1gs",
        "outputId": "0122dfdd-15d6-4f28-896e-69a52809408b"
      },
      "outputs": [
        {
          "output_type": "stream",
          "name": "stdout",
          "text": [
            "30\n"
          ]
        },
        {
          "output_type": "execute_result",
          "data": {
            "text/plain": [
              "int"
            ]
          },
          "metadata": {},
          "execution_count": 5
        }
      ],
      "source": [
        "a = 10\n",
        "b = 20\n",
        "c = a+b\n",
        "\n",
        "print (c)\n",
        "type(a)"
      ]
    },
    {
      "cell_type": "code",
      "source": [
        "a = 30\n",
        "b = 40\n",
        "c = a*b\n",
        "print(c)\n",
        "\n",
        "type(c)"
      ],
      "metadata": {
        "colab": {
          "base_uri": "https://localhost:8080/"
        },
        "id": "Kh8FPuNeKg7o",
        "outputId": "f0500d5e-278f-4ca2-b7f7-22191a914930"
      },
      "execution_count": null,
      "outputs": [
        {
          "output_type": "stream",
          "name": "stdout",
          "text": [
            "1200\n"
          ]
        },
        {
          "output_type": "execute_result",
          "data": {
            "text/plain": [
              "int"
            ]
          },
          "metadata": {},
          "execution_count": 7
        }
      ]
    },
    {
      "cell_type": "code",
      "source": [
        "a1 = 20.21\n",
        "a2 = 34.23\n",
        "c = (a1+a2)\n",
        "print(c)\n",
        "type(a1)"
      ],
      "metadata": {
        "colab": {
          "base_uri": "https://localhost:8080/"
        },
        "id": "wU_Lt4OtMVky",
        "outputId": "72ef452d-9f03-4f44-aa0d-b54d117b2370"
      },
      "execution_count": null,
      "outputs": [
        {
          "output_type": "stream",
          "name": "stdout",
          "text": [
            "54.44\n"
          ]
        },
        {
          "output_type": "execute_result",
          "data": {
            "text/plain": [
              "float"
            ]
          },
          "metadata": {},
          "execution_count": 9
        }
      ]
    },
    {
      "cell_type": "code",
      "source": [
        "a = 20\n",
        "b = 30\n",
        "c = a>b\n",
        "print(c)"
      ],
      "metadata": {
        "colab": {
          "base_uri": "https://localhost:8080/"
        },
        "id": "X2gK6WOpMp6n",
        "outputId": "9c659539-4ec6-4c87-fcf5-c7b362f543ac"
      },
      "execution_count": null,
      "outputs": [
        {
          "output_type": "stream",
          "name": "stdout",
          "text": [
            "False\n"
          ]
        }
      ]
    },
    {
      "cell_type": "code",
      "source": [
        "a = 20\n",
        "b = 30\n",
        "c = a<b\n",
        "print(c)\n",
        "type(c)"
      ],
      "metadata": {
        "colab": {
          "base_uri": "https://localhost:8080/"
        },
        "id": "csxyRMxXO2iY",
        "outputId": "89139b92-9fc6-48ed-d4ad-b9514c541c80"
      },
      "execution_count": null,
      "outputs": [
        {
          "output_type": "stream",
          "name": "stdout",
          "text": [
            "True\n"
          ]
        },
        {
          "output_type": "execute_result",
          "data": {
            "text/plain": [
              "bool"
            ]
          },
          "metadata": {},
          "execution_count": 12
        }
      ]
    },
    {
      "cell_type": "code",
      "source": [
        "a = 40\n",
        "b = 30\n",
        "c = a==b\n",
        "print(c)"
      ],
      "metadata": {
        "colab": {
          "base_uri": "https://localhost:8080/"
        },
        "id": "Sx31mA8yPLEf",
        "outputId": "bf3e569e-452e-4cc0-9afe-59d7900117d3"
      },
      "execution_count": null,
      "outputs": [
        {
          "output_type": "stream",
          "name": "stdout",
          "text": [
            "False\n"
          ]
        }
      ]
    },
    {
      "cell_type": "code",
      "source": [
        "a = 40\n",
        "b = 30\n",
        "c = a!=b\n",
        "print(c)\n"
      ],
      "metadata": {
        "colab": {
          "base_uri": "https://localhost:8080/"
        },
        "id": "lsL2ZZP7PXmI",
        "outputId": "370c8c68-0f83-4cfe-87b3-334b9951ed49"
      },
      "execution_count": null,
      "outputs": [
        {
          "output_type": "stream",
          "name": "stdout",
          "text": [
            "True\n"
          ]
        }
      ]
    },
    {
      "cell_type": "code",
      "source": [
        "x = 10\n",
        "y = 5\n",
        "\n",
        "print(x > 5 and y < 10)  # True\n",
        "print(x > 15 or y < 10)  # True\n",
        "print(not(x < 5))        # True\n",
        "\n",
        "\n"
      ],
      "metadata": {
        "colab": {
          "base_uri": "https://localhost:8080/"
        },
        "id": "HDXifiJoRK05",
        "outputId": "7ece0f34-236e-4ad6-9055-5561f0128442"
      },
      "execution_count": null,
      "outputs": [
        {
          "output_type": "stream",
          "name": "stdout",
          "text": [
            "True\n",
            "True\n",
            "True\n"
          ]
        }
      ]
    },
    {
      "cell_type": "code",
      "source": [
        "x = 30\n",
        "y = 20\n",
        "\n",
        "print(x > 20 and y >4 )\n",
        "print(x>14 or y <2 )"
      ],
      "metadata": {
        "colab": {
          "base_uri": "https://localhost:8080/"
        },
        "id": "CudOOHqtRVdU",
        "outputId": "7e6a3f41-f163-4a71-ef82-cdd805b00686"
      },
      "execution_count": null,
      "outputs": [
        {
          "output_type": "stream",
          "name": "stdout",
          "text": [
            "True\n",
            "True\n"
          ]
        }
      ]
    },
    {
      "cell_type": "code",
      "source": [
        "value1 = True\n",
        "print (  not value1)\n"
      ],
      "metadata": {
        "colab": {
          "base_uri": "https://localhost:8080/"
        },
        "id": "XtJPIahhTKOt",
        "outputId": "838fcbd6-21fe-486a-81d4-68d0e0f2cefb"
      },
      "execution_count": null,
      "outputs": [
        {
          "output_type": "stream",
          "name": "stdout",
          "text": [
            "False\n"
          ]
        }
      ]
    },
    {
      "cell_type": "code",
      "source": [
        "def calc_avg(a,b,c):\n",
        "  sum = a+b+c\n",
        "  avg = sum/3\n",
        "  print(avg)\n",
        "\n",
        "calc_avg(10,20,30)\n"
      ],
      "metadata": {
        "colab": {
          "base_uri": "https://localhost:8080/"
        },
        "id": "Mkr6TCiPEz_K",
        "outputId": "91a0651a-7166-4f38-bbbd-c9436ddf49bc"
      },
      "execution_count": null,
      "outputs": [
        {
          "output_type": "stream",
          "name": "stdout",
          "text": [
            "20.0\n"
          ]
        }
      ]
    },
    {
      "cell_type": "code",
      "source": [
        "#quetion 1\n",
        "a = 23\n",
        "b = 45\n",
        "\n",
        "print(a+b)\n",
        "print(a-b)\n",
        "print(a*b)\n",
        "print(a/b)\n"
      ],
      "metadata": {
        "colab": {
          "base_uri": "https://localhost:8080/"
        },
        "id": "Yt_Km4ghxKs3",
        "outputId": "0c19de67-832f-4cc4-ae5e-eb50d4a71f4d"
      },
      "execution_count": null,
      "outputs": [
        {
          "output_type": "stream",
          "name": "stdout",
          "text": [
            "68\n",
            "-22\n",
            "1035\n",
            "0.5111111111111111\n"
          ]
        }
      ]
    },
    {
      "cell_type": "code",
      "source": [
        "##quetion 2\n",
        "\n",
        "age = 25\n",
        "if age < 18:\n",
        "    print(\"Minor\")\n",
        "elif age < 60:\n",
        "    print(\"Adult\")\n",
        "else:\n",
        "    print(\"Senior Citizen\")\n"
      ],
      "metadata": {
        "colab": {
          "base_uri": "https://localhost:8080/"
        },
        "id": "tN1FzrmE1cTg",
        "outputId": "5c6db943-7295-443b-e817-025a9e259570"
      },
      "execution_count": null,
      "outputs": [
        {
          "output_type": "stream",
          "name": "stdout",
          "text": [
            "Adult\n"
          ]
        }
      ]
    },
    {
      "cell_type": "code",
      "source": [
        "#quetion 3\n",
        "\n",
        "a = 7\n",
        "if a%2==0:\n",
        "  print(\"even number\")\n",
        "else:\n",
        "  print(\"odd number\")"
      ],
      "metadata": {
        "colab": {
          "base_uri": "https://localhost:8080/"
        },
        "id": "V4RiP_bS1yDy",
        "outputId": "bfe59ef6-1d06-4506-b6e3-3a75d008e8ea"
      },
      "execution_count": null,
      "outputs": [
        {
          "output_type": "stream",
          "name": "stdout",
          "text": [
            "odd number\n"
          ]
        }
      ]
    },
    {
      "cell_type": "code",
      "source": [
        "#quetion 5\n",
        "a = 4\n",
        "b = 9\n",
        "c = 2\n",
        "\n",
        "if a>b and a>c:\n",
        "  print(\"a is greater\")\n",
        "elif b>a and b>c:\n",
        "  print(\"b is greater\")\n",
        "\n",
        "else:\n",
        "  print(\"c is greater\")\n"
      ],
      "metadata": {
        "colab": {
          "base_uri": "https://localhost:8080/"
        },
        "id": "Mt05hMsW2582",
        "outputId": "7a88308a-5cc1-4bc8-a9fd-e9f2484fd2b3"
      },
      "execution_count": null,
      "outputs": [
        {
          "output_type": "stream",
          "name": "stdout",
          "text": [
            "b is greater\n"
          ]
        }
      ]
    },
    {
      "cell_type": "code",
      "source": [
        "#quetion 9\n",
        "num1 = 12\n",
        "num2 = 4\n",
        "operator = '\\*'\n",
        "\n",
        "if operator == '+':\n",
        "  print(num1+num2)\n",
        "elif operator == '-':\n",
        "  print(num1-num2)\n",
        "elif operator == '*':\n",
        "  print(num1*num2)\n",
        "elif operator == '/':\n",
        "  print(num1/num2)\n",
        "else:\n",
        "  print(\"invalid operator\")"
      ],
      "metadata": {
        "colab": {
          "base_uri": "https://localhost:8080/"
        },
        "id": "5cZGBwVq45vA",
        "outputId": "0aa09733-5092-4c16-e96c-99cddd3a1244"
      },
      "execution_count": null,
      "outputs": [
        {
          "output_type": "stream",
          "name": "stdout",
          "text": [
            "invalid operator\n"
          ]
        }
      ]
    },
    {
      "cell_type": "code",
      "source": [
        "#quetion 6\n",
        "\n",
        "text = \"Python\"\n",
        "if len(text) > 5:\n",
        "    print(\"Length is greater than 5\")\n",
        "else:\n",
        "    print(\"Length is 5 or less\")"
      ],
      "metadata": {
        "colab": {
          "base_uri": "https://localhost:8080/"
        },
        "id": "ri5LEKEG7TEn",
        "outputId": "f8613e70-ff33-47ef-9179-4c443a27ef2c"
      },
      "execution_count": null,
      "outputs": [
        {
          "output_type": "stream",
          "name": "stdout",
          "text": [
            "Length is greater than 5\n"
          ]
        }
      ]
    },
    {
      "cell_type": "code",
      "source": [
        "#quetion 7\n",
        "num = 15\n",
        "if num % 3==0 and num % 5==0:\n",
        "  print(\" multiple by 3 and 5\")\n",
        "else:\n",
        "  print(\"not multiple by 3 and 5\")"
      ],
      "metadata": {
        "colab": {
          "base_uri": "https://localhost:8080/"
        },
        "id": "6Qm3bZuOAVWO",
        "outputId": "37998fe7-17cc-47b4-97ac-c6968ae89e85"
      },
      "execution_count": null,
      "outputs": [
        {
          "output_type": "stream",
          "name": "stdout",
          "text": [
            " multiple by 3 and 5\n"
          ]
        }
      ]
    },
    {
      "cell_type": "code",
      "source": [
        "price = 25\n",
        "quantity = 5\n",
        "total = price * quantity\n",
        "\n",
        "if total > 100:\n",
        "    discount = total * 0.10\n",
        "    final_amount = total - discount\n",
        "else:\n",
        "    final_amount = total\n",
        "\n",
        "print(\"Final amount:\", final_amount)"
      ],
      "metadata": {
        "colab": {
          "base_uri": "https://localhost:8080/"
        },
        "collapsed": true,
        "id": "bW7Sp_emKcpD",
        "outputId": "ccb1be60-1bda-46df-a888-30c1db7a5943"
      },
      "execution_count": null,
      "outputs": [
        {
          "output_type": "stream",
          "name": "stdout",
          "text": [
            "Final amount: 112.5\n"
          ]
        }
      ]
    },
    {
      "cell_type": "code",
      "source": [
        "price = 25\n",
        "quantity = 5\n",
        "total = price * quantity\n",
        "if total > 100:\n",
        "  discount = total * 0.10\n",
        "  final_amount = total - discount\n",
        "else :\n",
        "  print(\"test\")\n",
        "\n",
        "  final_amount = total\n",
        "\n",
        "print(\"Final amount:\", final_amount)\n"
      ],
      "metadata": {
        "colab": {
          "base_uri": "https://localhost:8080/"
        },
        "id": "5aXpeOpNLMK0",
        "outputId": "212de10d-dfba-4e4f-ce54-acdef5db1125"
      },
      "execution_count": null,
      "outputs": [
        {
          "output_type": "stream",
          "name": "stdout",
          "text": [
            "Final amount: 112.5\n"
          ]
        }
      ]
    },
    {
      "cell_type": "code",
      "source": [
        "for i in range(10):\n",
        "  print(i)"
      ],
      "metadata": {
        "colab": {
          "base_uri": "https://localhost:8080/"
        },
        "collapsed": true,
        "id": "6knaR8I_uhhb",
        "outputId": "ccf93644-9714-4582-b853-ef027e34aa38"
      },
      "execution_count": null,
      "outputs": [
        {
          "output_type": "stream",
          "name": "stdout",
          "text": [
            "0\n",
            "1\n",
            "2\n",
            "3\n",
            "4\n",
            "5\n",
            "6\n",
            "7\n",
            "8\n",
            "9\n"
          ]
        }
      ]
    },
    {
      "cell_type": "code",
      "source": [
        "for i in range(10):\n",
        "  print(\"my name is raja\")"
      ],
      "metadata": {
        "colab": {
          "base_uri": "https://localhost:8080/"
        },
        "collapsed": true,
        "id": "4YhS3ScnwYRO",
        "outputId": "e643f461-9e84-45fa-ddf6-463d70a269f5"
      },
      "execution_count": null,
      "outputs": [
        {
          "output_type": "stream",
          "name": "stdout",
          "text": [
            "my name is raja\n",
            "my name is raja\n",
            "my name is raja\n",
            "my name is raja\n",
            "my name is raja\n",
            "my name is raja\n",
            "my name is raja\n",
            "my name is raja\n",
            "my name is raja\n",
            "my name is raja\n"
          ]
        }
      ]
    },
    {
      "cell_type": "code",
      "source": [
        "for i in range(5,10):\n",
        "  print(i)"
      ],
      "metadata": {
        "colab": {
          "base_uri": "https://localhost:8080/"
        },
        "collapsed": true,
        "id": "zg33PQY3wzqX",
        "outputId": "8015c6ec-f183-4df1-98b8-5a2679c40232"
      },
      "execution_count": null,
      "outputs": [
        {
          "output_type": "stream",
          "name": "stdout",
          "text": [
            "5\n",
            "6\n",
            "7\n",
            "8\n",
            "9\n"
          ]
        }
      ]
    },
    {
      "cell_type": "code",
      "source": [
        "for i in range(5,10,2):\n",
        "  print(i)"
      ],
      "metadata": {
        "colab": {
          "base_uri": "https://localhost:8080/"
        },
        "id": "Rnz8usQAxa7Z",
        "outputId": "c20fe22a-73e2-4a3b-efa7-c2879c4d11fb"
      },
      "execution_count": null,
      "outputs": [
        {
          "output_type": "stream",
          "name": "stdout",
          "text": [
            "5\n",
            "7\n",
            "9\n"
          ]
        }
      ]
    },
    {
      "cell_type": "code",
      "source": [
        "a = 8\n",
        "while(a>0):\n",
        "  print(\"value of a is positive\")\n",
        "\n",
        "  a = a -1"
      ],
      "metadata": {
        "colab": {
          "base_uri": "https://localhost:8080/"
        },
        "collapsed": true,
        "id": "x6qr9r6fy54v",
        "outputId": "a677ddbe-27a7-46c2-bb25-04aeea107aaa"
      },
      "execution_count": null,
      "outputs": [
        {
          "output_type": "stream",
          "name": "stdout",
          "text": [
            "value of a is positive\n",
            "value of a is positive\n",
            "value of a is positive\n",
            "value of a is positive\n",
            "value of a is positive\n",
            "value of a is positive\n",
            "value of a is positive\n",
            "value of a is positive\n"
          ]
        }
      ]
    },
    {
      "cell_type": "code",
      "source": [
        "for i in range(10):\n",
        "    print(i)\n",
        "    a = 5\n",
        "    while (a > 0):\n",
        "      print('value of a')\n",
        "      print(a)\n",
        "      print('value of a is positive')\n",
        "      a = a - 1"
      ],
      "metadata": {
        "colab": {
          "base_uri": "https://localhost:8080/"
        },
        "collapsed": true,
        "id": "XJdxUE_c1HoJ",
        "outputId": "0d199c7f-f5f5-4907-9088-2688636b4403"
      },
      "execution_count": null,
      "outputs": [
        {
          "output_type": "stream",
          "name": "stdout",
          "text": [
            "0\n",
            "value of a\n",
            "5\n",
            "value of a is positive\n",
            "value of a\n",
            "4\n",
            "value of a is positive\n",
            "value of a\n",
            "3\n",
            "value of a is positive\n",
            "value of a\n",
            "2\n",
            "value of a is positive\n",
            "value of a\n",
            "1\n",
            "value of a is positive\n",
            "1\n",
            "value of a\n",
            "5\n",
            "value of a is positive\n",
            "value of a\n",
            "4\n",
            "value of a is positive\n",
            "value of a\n",
            "3\n",
            "value of a is positive\n",
            "value of a\n",
            "2\n",
            "value of a is positive\n",
            "value of a\n",
            "1\n",
            "value of a is positive\n",
            "2\n",
            "value of a\n",
            "5\n",
            "value of a is positive\n",
            "value of a\n",
            "4\n",
            "value of a is positive\n",
            "value of a\n",
            "3\n",
            "value of a is positive\n",
            "value of a\n",
            "2\n",
            "value of a is positive\n",
            "value of a\n",
            "1\n",
            "value of a is positive\n",
            "3\n",
            "value of a\n",
            "5\n",
            "value of a is positive\n",
            "value of a\n",
            "4\n",
            "value of a is positive\n",
            "value of a\n",
            "3\n",
            "value of a is positive\n",
            "value of a\n",
            "2\n",
            "value of a is positive\n",
            "value of a\n",
            "1\n",
            "value of a is positive\n",
            "4\n",
            "value of a\n",
            "5\n",
            "value of a is positive\n",
            "value of a\n",
            "4\n",
            "value of a is positive\n",
            "value of a\n",
            "3\n",
            "value of a is positive\n",
            "value of a\n",
            "2\n",
            "value of a is positive\n",
            "value of a\n",
            "1\n",
            "value of a is positive\n",
            "5\n",
            "value of a\n",
            "5\n",
            "value of a is positive\n",
            "value of a\n",
            "4\n",
            "value of a is positive\n",
            "value of a\n",
            "3\n",
            "value of a is positive\n",
            "value of a\n",
            "2\n",
            "value of a is positive\n",
            "value of a\n",
            "1\n",
            "value of a is positive\n",
            "6\n",
            "value of a\n",
            "5\n",
            "value of a is positive\n",
            "value of a\n",
            "4\n",
            "value of a is positive\n",
            "value of a\n",
            "3\n",
            "value of a is positive\n",
            "value of a\n",
            "2\n",
            "value of a is positive\n",
            "value of a\n",
            "1\n",
            "value of a is positive\n",
            "7\n",
            "value of a\n",
            "5\n",
            "value of a is positive\n",
            "value of a\n",
            "4\n",
            "value of a is positive\n",
            "value of a\n",
            "3\n",
            "value of a is positive\n",
            "value of a\n",
            "2\n",
            "value of a is positive\n",
            "value of a\n",
            "1\n",
            "value of a is positive\n",
            "8\n",
            "value of a\n",
            "5\n",
            "value of a is positive\n",
            "value of a\n",
            "4\n",
            "value of a is positive\n",
            "value of a\n",
            "3\n",
            "value of a is positive\n",
            "value of a\n",
            "2\n",
            "value of a is positive\n",
            "value of a\n",
            "1\n",
            "value of a is positive\n",
            "9\n",
            "value of a\n",
            "5\n",
            "value of a is positive\n",
            "value of a\n",
            "4\n",
            "value of a is positive\n",
            "value of a\n",
            "3\n",
            "value of a is positive\n",
            "value of a\n",
            "2\n",
            "value of a is positive\n",
            "value of a\n",
            "1\n",
            "value of a is positive\n"
          ]
        }
      ]
    },
    {
      "cell_type": "code",
      "source": [
        "for i in range(1, 4):\n",
        "    for j in range(1, 4):\n",
        "        print(i * j, end=\" \")\n",
        "    print()"
      ],
      "metadata": {
        "colab": {
          "base_uri": "https://localhost:8080/"
        },
        "id": "CiS9CpXA2FK_",
        "outputId": "9ca51286-ef5d-4888-f434-429acf6e1f92"
      },
      "execution_count": null,
      "outputs": [
        {
          "output_type": "stream",
          "name": "stdout",
          "text": [
            "1 2 3 \n",
            "2 4 6 \n",
            "3 6 9 \n"
          ]
        }
      ]
    },
    {
      "cell_type": "code",
      "source": [
        "#quetion 1\n",
        "\n",
        "for i in range(1, 11):\n",
        "    print(i)"
      ],
      "metadata": {
        "colab": {
          "base_uri": "https://localhost:8080/"
        },
        "collapsed": true,
        "id": "4wOU5ekJpJlC",
        "outputId": "a69a1164-00d7-434e-a84b-011c259f7db7"
      },
      "execution_count": null,
      "outputs": [
        {
          "output_type": "stream",
          "name": "stdout",
          "text": [
            "1\n",
            "2\n",
            "3\n",
            "4\n",
            "5\n",
            "6\n",
            "7\n",
            "8\n",
            "9\n",
            "10\n"
          ]
        }
      ]
    },
    {
      "cell_type": "code",
      "source": [
        "#quetion 2\n",
        "\n",
        "for i in range(2, 21, 2):\n",
        "    print(i)"
      ],
      "metadata": {
        "colab": {
          "base_uri": "https://localhost:8080/"
        },
        "collapsed": true,
        "id": "1-5oWbA5pea2",
        "outputId": "c8c98b91-bb3c-4b34-b3f6-f672d2de997e"
      },
      "execution_count": null,
      "outputs": [
        {
          "output_type": "stream",
          "name": "stdout",
          "text": [
            "2\n",
            "4\n",
            "6\n",
            "8\n",
            "10\n",
            "12\n",
            "14\n",
            "16\n",
            "18\n",
            "20\n"
          ]
        }
      ]
    },
    {
      "cell_type": "code",
      "source": [
        "#quetion 3\n",
        "\n",
        "total = 0\n",
        "for i in range(1, 11):\n",
        "    total += i\n",
        "print(\"Sum:\", total)\n"
      ],
      "metadata": {
        "colab": {
          "base_uri": "https://localhost:8080/"
        },
        "id": "8rh3cBEjp9JV",
        "outputId": "2cd97977-20d2-4b94-8542-f4706813be9a"
      },
      "execution_count": null,
      "outputs": [
        {
          "output_type": "stream",
          "name": "stdout",
          "text": [
            "Sum: 55\n"
          ]
        }
      ]
    },
    {
      "cell_type": "code",
      "source": [
        "#quetion 4\n",
        "\n",
        "for i in range(1, 11):\n",
        "    print(f\"5 x {i} = {5 * i}\")\n"
      ],
      "metadata": {
        "colab": {
          "base_uri": "https://localhost:8080/"
        },
        "collapsed": true,
        "id": "A_bZqEK7qOsw",
        "outputId": "833358cb-d41e-4dba-9d64-9857b63a3e56"
      },
      "execution_count": null,
      "outputs": [
        {
          "output_type": "stream",
          "name": "stdout",
          "text": [
            "5 x 1 = 5\n",
            "5 x 2 = 10\n",
            "5 x 3 = 15\n",
            "5 x 4 = 20\n",
            "5 x 5 = 25\n",
            "5 x 6 = 30\n",
            "5 x 7 = 35\n",
            "5 x 8 = 40\n",
            "5 x 9 = 45\n",
            "5 x 10 = 50\n"
          ]
        }
      ]
    },
    {
      "cell_type": "code",
      "source": [
        "#quetion 5\n",
        "\n",
        "i = 5\n",
        "while i >= 1:\n",
        "    print(i)\n",
        "    i -= 1\n",
        "print(\"Blast off!\")"
      ],
      "metadata": {
        "colab": {
          "base_uri": "https://localhost:8080/"
        },
        "id": "-_OFPZoXqZTn",
        "outputId": "538fa313-3799-4cfe-fb79-514107bd9080"
      },
      "execution_count": null,
      "outputs": [
        {
          "output_type": "stream",
          "name": "stdout",
          "text": [
            "5\n",
            "4\n",
            "3\n",
            "2\n",
            "1\n",
            "Blast off!\n"
          ]
        }
      ]
    }
  ]
}